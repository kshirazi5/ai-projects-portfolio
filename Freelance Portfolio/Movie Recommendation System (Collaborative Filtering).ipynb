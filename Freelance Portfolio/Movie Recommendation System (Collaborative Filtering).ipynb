{
 "cells": [
  {
   "cell_type": "markdown",
   "id": "00cd08be-386a-49ad-ab3f-01326758b1b7",
   "metadata": {},
   "source": [
    "Use user rating data to build a movie recommender using similarity between users (user-based collaborative filtering)."
   ]
  },
  {
   "cell_type": "code",
   "execution_count": 2,
   "id": "55eb3aee-5e15-49fa-8593-0e2ca593775f",
   "metadata": {},
   "outputs": [
    {
     "name": "stdout",
     "output_type": "stream",
     "text": [
      "Top recommended movie IDs for user 1: [(474, 20), (433, 20), (273, 20), (566, 18), (655, 17)]\n"
     ]
    }
   ],
   "source": [
    "import pandas as pd\n",
    "from sklearn.metrics.pairwise import cosine_similarity\n",
    "\n",
    "# Load small sample data: userId, movie, and rating\n",
    "url = \"https://raw.githubusercontent.com/justmarkham/DAT8/master/data/u.data\"\n",
    "df = pd.read_csv(url, sep='\\t', names=['user_id', 'item_id', 'rating', 'timestamp'])\n",
    "\n",
    "# Pivot to user-movie matrix\n",
    "user_movie_matrix = df.pivot(index='user_id', columns='item_id', values='rating').fillna(0)\n",
    "\n",
    "# Compute user similarity\n",
    "user_sim = cosine_similarity(user_movie_matrix)\n",
    "user_sim_df = pd.DataFrame(user_sim, index=user_movie_matrix.index, columns=user_movie_matrix.index)\n",
    "\n",
    "# Recommend movies to user 1 based on similar users\n",
    "user_id = 1\n",
    "similar_users = user_sim_df[user_id].sort_values(ascending=False)[1:6]\n",
    "\n",
    "# Get movies user 1 hasn't rated\n",
    "user1_movies = set(df[df['user_id'] == user_id]['item_id'])\n",
    "recommended = {}\n",
    "\n",
    "for sim_user in similar_users.index:\n",
    "    sim_user_movies = df[df['user_id'] == sim_user]\n",
    "    for _, row in sim_user_movies.iterrows():\n",
    "        if row['item_id'] not in user1_movies:\n",
    "            recommended[row['item_id']] = recommended.get(row['item_id'], 0) + row['rating']\n",
    "\n",
    "# Top 5 movie recommendations\n",
    "recommended_movies = sorted(recommended.items(), key=lambda x: x[1], reverse=True)[:5]\n",
    "print(\"Top recommended movie IDs for user 1:\", recommended_movies)\n"
   ]
  },
  {
   "cell_type": "markdown",
   "id": "63ad2e78-5acf-42c7-97f0-72624d8849e6",
   "metadata": {},
   "source": [
    "# Movie Recommendation Engine (User-Based Collaborative Filtering)\n",
    "\n",
    "This project uses the MovieLens dataset to build a simple movie recommender system. It identifies users with similar taste and recommends movies rated highly by them that the target user hasn't seen yet.\n",
    "\n",
    "## Steps:\n",
    "- Load and prepare rating data\n",
    "- Create user-movie rating matrix\n",
    "- Compute user similarity using cosine similarity\n",
    "- Recommend unseen movies based on top similar users' preferences\n",
    "\n",
    "This approach is a foundational method for building collaborative filtering systems in real-world platforms.\n"
   ]
  },
  {
   "cell_type": "code",
   "execution_count": null,
   "id": "3ffbc717-d598-42ff-9731-1090ddc88684",
   "metadata": {},
   "outputs": [],
   "source": []
  }
 ],
 "metadata": {
  "kernelspec": {
   "display_name": "Python [conda env:anaconda3] *",
   "language": "python",
   "name": "conda-env-anaconda3-py"
  },
  "language_info": {
   "codemirror_mode": {
    "name": "ipython",
    "version": 3
   },
   "file_extension": ".py",
   "mimetype": "text/x-python",
   "name": "python",
   "nbconvert_exporter": "python",
   "pygments_lexer": "ipython3",
   "version": "3.9.13"
  }
 },
 "nbformat": 4,
 "nbformat_minor": 5
}
