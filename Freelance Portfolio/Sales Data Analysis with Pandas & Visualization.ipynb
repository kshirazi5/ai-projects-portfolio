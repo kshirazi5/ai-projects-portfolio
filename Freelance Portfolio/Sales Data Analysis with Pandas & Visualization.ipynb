{
 "cells": [
  {
   "cell_type": "markdown",
   "id": "4d14ec3a-5792-4ff4-8d09-929ec63cb338",
   "metadata": {},
   "source": [
    "# Sales Data Analysis with Pandas & Seaborn\n",
    "\n",
    "This project analyzes restaurant sales data using Pandas and Seaborn. We explore customer spending, tipping behavior, and sales trends by day of the week. The goal is to demonstrate data cleaning, grouping, and visualization skills for business intelligence.\n"
   ]
  },
  {
   "cell_type": "code",
   "execution_count": 4,
   "id": "d6a0f5ef-6cc3-466a-8e15-882d1ea6138e",
   "metadata": {},
   "outputs": [
    {
     "name": "stdout",
     "output_type": "stream",
     "text": [
      "   total_bill   tip     sex smoker  day    time  size\n",
      "0       16.99  1.01  Female     No  Sun  Dinner     2\n",
      "1       10.34  1.66    Male     No  Sun  Dinner     3\n",
      "2       21.01  3.50    Male     No  Sun  Dinner     3\n",
      "3       23.68  3.31    Male     No  Sun  Dinner     2\n",
      "4       24.59  3.61  Female     No  Sun  Dinner     4\n",
      "       total_bill         tip        size\n",
      "count  244.000000  244.000000  244.000000\n",
      "mean    19.785943    2.998279    2.569672\n",
      "std      8.902412    1.383638    0.951100\n",
      "min      3.070000    1.000000    1.000000\n",
      "25%     13.347500    2.000000    2.000000\n",
      "50%     17.795000    2.900000    2.000000\n",
      "75%     24.127500    3.562500    3.000000\n",
      "max     50.810000   10.000000    6.000000\n",
      "\n",
      "Total Sales by Day:\n",
      " day\n",
      "Sat     1778.40\n",
      "Sun     1627.16\n",
      "Thur    1096.33\n",
      "Fri      325.88\n",
      "Name: total_bill, dtype: float64\n",
      "\n",
      "Average Tip by Gender:\n",
      " sex\n",
      "Female    2.833448\n",
      "Male      3.089618\n",
      "Name: tip, dtype: float64\n"
     ]
    }
   ],
   "source": [
    "import pandas as pd\n",
    "import matplotlib.pyplot as plt\n",
    "import seaborn as sns\n",
    "\n",
    "# Load sample data\n",
    "data = pd.read_csv('https://raw.githubusercontent.com/mwaskom/seaborn-data/master/tips.csv')\n",
    "\n",
    "# Basic overview\n",
    "print(data.head())\n",
    "print(data.describe())\n",
    "\n",
    "# Total sales by day\n",
    "daily_sales = data.groupby('day')['total_bill'].sum().sort_values(ascending=False)\n",
    "print(\"\\nTotal Sales by Day:\\n\", daily_sales)\n",
    "\n",
    "# Average tip by gender\n",
    "avg_tip_gender = data.groupby('sex')['tip'].mean()\n",
    "print(\"\\nAverage Tip by Gender:\\n\", avg_tip_gender)"
   ]
  },
  {
   "cell_type": "markdown",
   "id": "ff150528-81c0-437d-861f-2f8ded1de554",
   "metadata": {},
   "source": [
    "## Total Sales by Day\n",
    "\n",
    "We group total sales by each day of the week to understand peak business days. The resulting bar plot shows which days generate the most revenue.\n"
   ]
  },
  {
   "cell_type": "code",
   "execution_count": 6,
   "id": "64616ac3-2102-4eda-a5a0-30032de6e86d",
   "metadata": {},
   "outputs": [
    {
     "data": {
      "image/png": "[encoded data removed]",
      "text/plain": [
       "<Figure size 600x400 with 1 Axes>"
      ]
     },
     "metadata": {},
     "output_type": "display_data"
    }
   ],
   "source": [
    "# Visualization: Total Sales by Day\n",
    "plt.figure(figsize=(6,4))\n",
    "sns.barplot(x=daily_sales.index, y=daily_sales.values)\n",
    "plt.title('Total Sales by Day')\n",
    "plt.xlabel('Day of Week')\n",
    "plt.ylabel('Total Bill ($)')\n",
    "plt.tight_layout()\n",
    "plt.show()"
   ]
  },
  {
   "cell_type": "markdown",
   "id": "a47c296e-38d8-4879-bc20-79c7646f8051",
   "metadata": {},
   "source": [
    "## Conclusion\n",
    "\n",
    "This project shows how to clean, analyze, and visualize data using Python and common libraries like Pandas, Matplotlib, and Seaborn. Skills demonstrated include data wrangling, aggregation, and business-oriented reporting.\n"
   ]
  },
  {
   "cell_type": "code",
   "execution_count": null,
   "id": "e55ab6e5-6337-43fe-aa87-8b2aa325b9af",
   "metadata": {},
   "outputs": [],
   "source": []
  }
 ],
 "metadata": {
  "kernelspec": {
   "display_name": "Python [conda env:anaconda3] *",
   "language": "python",
   "name": "conda-env-anaconda3-py"
  },
  "language_info": {
   "codemirror_mode": {
    "name": "ipython",
    "version": 3
   },
   "file_extension": ".py",
   "mimetype": "text/x-python",
   "name": "python",
   "nbconvert_exporter": "python",
   "pygments_lexer": "ipython3",
   "version": "3.9.13"
  }
 },
 "nbformat": 4,
 "nbformat_minor": 5
}
