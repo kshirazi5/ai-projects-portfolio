{
 "cells": [
  {
   "cell_type": "markdown",
   "id": "fb79ed61-4180-48af-8fea-54d5b568665e",
   "metadata": {},
   "source": [
    "# Excel-Style Data Cleaning and Summary with Pandas\n",
    "\n",
    "This project demonstrates how to clean and summarize customer sales data. It includes removing duplicates, handling missing values, and generating summary reports by region. This workflow simulates typical Excel-based reporting tasks often performed in business settings.\n"
   ]
  },
  {
   "cell_type": "code",
   "execution_count": 2,
   "id": "c75607a9-7428-48b4-9317-fd7a394a6566",
   "metadata": {},
   "outputs": [],
   "source": [
    "import pandas as pd\n",
    "\n",
    "# Simulate messy data\n",
    "data = {\n",
    "    'Customer': ['Alice', 'Bob', 'Charlie', 'Alice', None],\n",
    "    'Sales': [250, 150, None, 250, 200],\n",
    "    'Region': ['West', 'East', 'East', 'West', None]\n",
    "}\n",
    "df = pd.DataFrame(data)"
   ]
  },
  {
   "cell_type": "markdown",
   "id": "069a0372-2bbe-4365-8bb6-906918b5f2c2",
   "metadata": {},
   "source": [
    "## Step 1: View and Understand Raw Data\n",
    "\n",
    "The raw dataset includes missing values and duplicates, which are common issues in real-world Excel exports.\n"
   ]
  },
  {
   "cell_type": "code",
   "execution_count": 3,
   "id": "03d281c0-d8e1-4ec3-99d8-8b5b9fa94915",
   "metadata": {},
   "outputs": [],
   "source": [
    "# Clean data\n",
    "df = df.drop_duplicates()\n",
    "df['Sales'] = df['Sales'].fillna(df['Sales'].mean())\n",
    "df['Customer'] = df['Customer'].fillna('Unknown')\n",
    "df['Region'] = df['Region'].fillna('Unknown')"
   ]
  },
  {
   "cell_type": "markdown",
   "id": "335257e2-ce68-485b-9ef0-91e07c7943dc",
   "metadata": {},
   "source": [
    "## Step 2: Clean Data and Summarize Sales by Region\n",
    "\n",
    "We fill missing values, remove duplicates, and aggregate total sales by region using groupby. These are essential data preparation steps before analysis or dashboarding.\n"
   ]
  },
  {
   "cell_type": "code",
   "execution_count": 5,
   "id": "759e65b5-049c-4747-a6bf-9b3524bc2f99",
   "metadata": {},
   "outputs": [
    {
     "name": "stdout",
     "output_type": "stream",
     "text": [
      "Total Sales by Region:\n",
      " Region\n",
      "East       350.0\n",
      "Unknown    200.0\n",
      "West       250.0\n",
      "Name: Sales, dtype: float64\n"
     ]
    }
   ],
   "source": [
    "# Summary\n",
    "summary = df.groupby('Region')['Sales'].sum()\n",
    "print(\"Total Sales by Region:\\n\", summary)"
   ]
  },
  {
   "cell_type": "markdown",
   "id": "d4b63d79-c1f1-4fb2-b876-c4c153925a66",
   "metadata": {},
   "source": [
    "## Conclusion\n",
    "\n",
    "This project shows how to clean, analyze, and visualize data using Python and common libraries like Pandas, Matplotlib, and Seaborn. Skills demonstrated include data wrangling, aggregation, and business-oriented reporting.\n"
   ]
  },
  {
   "cell_type": "code",
   "execution_count": null,
   "id": "6cb5b975-f25e-4264-8038-7c526d50aadc",
   "metadata": {},
   "outputs": [],
   "source": []
  }
 ],
 "metadata": {
  "kernelspec": {
   "display_name": "Python [conda env:anaconda3] *",
   "language": "python",
   "name": "conda-env-anaconda3-py"
  },
  "language_info": {
   "codemirror_mode": {
    "name": "ipython",
    "version": 3
   },
   "file_extension": ".py",
   "mimetype": "text/x-python",
   "name": "python",
   "nbconvert_exporter": "python",
   "pygments_lexer": "ipython3",
   "version": "3.9.13"
  }
 },
 "nbformat": 4,
 "nbformat_minor": 5
}
