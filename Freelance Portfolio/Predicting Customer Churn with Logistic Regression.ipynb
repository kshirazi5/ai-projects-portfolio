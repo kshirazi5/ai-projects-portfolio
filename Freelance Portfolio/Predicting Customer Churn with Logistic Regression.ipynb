{
 "cells": [
  {
   "cell_type": "code",
   "execution_count": 2,
   "id": "a8079773-0063-40bb-bc7e-62b792a6b8b1",
   "metadata": {},
   "outputs": [
    {
     "name": "stdout",
     "output_type": "stream",
     "text": [
      "Confusion Matrix:\n",
      " [[923 110]\n",
      " [188 186]]\n",
      "\n",
      "Classification Report:\n",
      "               precision    recall  f1-score   support\n",
      "\n",
      "           0       0.83      0.89      0.86      1033\n",
      "           1       0.63      0.50      0.56       374\n",
      "\n",
      "    accuracy                           0.79      1407\n",
      "   macro avg       0.73      0.70      0.71      1407\n",
      "weighted avg       0.78      0.79      0.78      1407\n",
      "\n"
     ]
    }
   ],
   "source": [
    "import pandas as pd\n",
    "from sklearn.model_selection import train_test_split\n",
    "from sklearn.linear_model import LogisticRegression\n",
    "from sklearn.metrics import classification_report, confusion_matrix\n",
    "\n",
    "# Load from a reliable GitHub source\n",
    "url = \"https://raw.githubusercontent.com/IBM/telco-customer-churn-on-icp4d/master/data/Telco-Customer-Churn.csv\"\n",
    "df = pd.read_csv(url)\n",
    "\n",
    "# Clean & preprocess\n",
    "df = df[df['TotalCharges'] != ' ']  # Remove empty TotalCharges rows\n",
    "df['TotalCharges'] = df['TotalCharges'].astype(float)\n",
    "df['Churn'] = df['Churn'].map({'Yes': 1, 'No': 0})\n",
    "\n",
    "# Encode categorical features\n",
    "df_encoded = pd.get_dummies(df[['SeniorCitizen', 'tenure', 'MonthlyCharges', 'TotalCharges',\n",
    "                                'Contract', 'InternetService', 'PaymentMethod']], drop_first=True)\n",
    "\n",
    "X = df_encoded\n",
    "y = df['Churn']\n",
    "\n",
    "# Split data\n",
    "X_train, X_test, y_train, y_test = train_test_split(X, y, test_size=0.2, random_state=42)\n",
    "\n",
    "# Train model\n",
    "model = LogisticRegression(max_iter=1000)\n",
    "model.fit(X_train, y_train)\n",
    "\n",
    "# Predict & evaluate\n",
    "y_pred = model.predict(X_test)\n",
    "\n",
    "print(\"Confusion Matrix:\\n\", confusion_matrix(y_test, y_pred))\n",
    "print(\"\\nClassification Report:\\n\", classification_report(y_test, y_pred))\n"
   ]
  },
  {
   "cell_type": "markdown",
   "id": "c490965a-4bf0-4222-8fde-b1f4c43577fe",
   "metadata": {},
   "source": [
    "This project uses a telecom dataset to predict customer churn. The data includes account information, contract type, charges, and customer demographics. The goal is to identify at-risk customers for targeted retention strategies."
   ]
  },
  {
   "cell_type": "code",
   "execution_count": null,
   "id": "40dd2802-fe24-40e0-abc9-db41fe5b6d71",
   "metadata": {},
   "outputs": [],
   "source": []
  }
 ],
 "metadata": {
  "kernelspec": {
   "display_name": "Python [conda env:anaconda3] *",
   "language": "python",
   "name": "conda-env-anaconda3-py"
  },
  "language_info": {
   "codemirror_mode": {
    "name": "ipython",
    "version": 3
   },
   "file_extension": ".py",
   "mimetype": "text/x-python",
   "name": "python",
   "nbconvert_exporter": "python",
   "pygments_lexer": "ipython3",
   "version": "3.9.13"
  }
 },
 "nbformat": 4,
 "nbformat_minor": 5
}
